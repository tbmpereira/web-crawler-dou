{
 "cells": [
  {
   "cell_type": "markdown",
   "metadata": {
    "colab_type": "text",
    "id": "sPqRJgjki_kb"
   },
   "source": [
    "Raspagem de dados do Diário Oficial da União buscando atos cuja autoria seja o órgão desejado"
   ]
  },
  {
   "cell_type": "code",
   "execution_count": null,
   "metadata": {
    "colab": {},
    "colab_type": "code",
    "executionInfo": {
     "elapsed": 1054,
     "status": "ok",
     "timestamp": 1595325956809,
     "user": {
      "displayName": "Marcelo Pereira",
      "photoUrl": "https://lh3.googleusercontent.com/a-/AOh14GhIXKCSLGN85Ki5jauM_SVMdegrc1yKmwQGfWzffkc=s64",
      "userId": "00402512280972984660"
     },
     "user_tz": 180
    },
    "id": "K9_kDiFei_kg"
   },
   "outputs": [],
   "source": [
    "#Importando Bibliotecas\n",
    "import requests\n",
    "from urllib.request import urlopen\n",
    "from bs4 import BeautifulSoup\n",
    "import pandas as pd\n",
    "import math\n",
    "import time"
   ]
  },
  {
   "cell_type": "code",
   "execution_count": null,
   "metadata": {
    "colab": {},
    "colab_type": "code",
    "executionInfo": {
     "elapsed": 1040,
     "status": "ok",
     "timestamp": 1595325956811,
     "user": {
      "displayName": "Marcelo Pereira",
      "photoUrl": "https://lh3.googleusercontent.com/a-/AOh14GhIXKCSLGN85Ki5jauM_SVMdegrc1yKmwQGfWzffkc=s64",
      "userId": "00402512280972984660"
     },
     "user_tz": 180
    },
    "id": "QQS--0UWi_ku"
   },
   "outputs": [],
   "source": [
    "#Função para tratamento de strings\n",
    "def trata_html(input):\n",
    "    return \" \".join(input.split()).replace('> <', '><')"
   ]
  },
  {
   "cell_type": "markdown",
   "metadata": {
    "colab_type": "text",
    "id": "5fvjsXHshnCp"
   },
   "source": [
    "Variáveis a serem alteradas pelo usuário"
   ]
  },
  {
   "cell_type": "code",
   "execution_count": null,
   "metadata": {
    "colab": {},
    "colab_type": "code",
    "executionInfo": {
     "elapsed": 1030,
     "status": "ok",
     "timestamp": 1595325956812,
     "user": {
      "displayName": "Marcelo Pereira",
      "photoUrl": "https://lh3.googleusercontent.com/a-/AOh14GhIXKCSLGN85Ki5jauM_SVMdegrc1yKmwQGfWzffkc=s64",
      "userId": "00402512280972984660"
     },
     "user_tz": 180
    },
    "id": "DXB3Y0qqi_k8"
   },
   "outputs": [],
   "source": [
    "tipos = ['decreto', 'portaria', 'contrato', 'edital']\n",
    "\n",
    "orgaos = ['Ministério da Saúde', 'Ministério da Defesa', 'Gabinete de Segurança Institucional', \n",
    "          'Ministério de Minas e Energia', 'Ministério da Infraestrutura', \n",
    "          'Ministério da Ciência, Tecnologia e Inovações', 'Casa Civil', 'Poder Executivo',\n",
    "          'Vice-Presidência', 'Presidência']\n",
    "url = \"http://www.in.gov.br/consulta\"\n",
    "data_inicio = \"2020-07-01\"\n",
    "data_fim = \"2020-07-07\""
   ]
  },
  {
   "cell_type": "code",
   "execution_count": null,
   "metadata": {
    "colab": {},
    "colab_type": "code",
    "executionInfo": {
     "elapsed": 1021,
     "status": "ok",
     "timestamp": 1595325956813,
     "user": {
      "displayName": "Marcelo Pereira",
      "photoUrl": "https://lh3.googleusercontent.com/a-/AOh14GhIXKCSLGN85Ki5jauM_SVMdegrc1yKmwQGfWzffkc=s64",
      "userId": "00402512280972984660"
     },
     "user_tz": 180
    },
    "id": "rZVY0Y4Bi_lG"
   },
   "outputs": [],
   "source": [
    "def primeira_maiuscula(lista):\n",
    "    listab = []\n",
    "    for palavra in lista:\n",
    "        listab.append(palavra.lower().capitalize())\n",
    "    return listab"
   ]
  },
  {
   "cell_type": "code",
   "execution_count": null,
   "metadata": {
    "colab": {},
    "colab_type": "code",
    "executionInfo": {
     "elapsed": 1015,
     "status": "ok",
     "timestamp": 1595325956815,
     "user": {
      "displayName": "Marcelo Pereira",
      "photoUrl": "https://lh3.googleusercontent.com/a-/AOh14GhIXKCSLGN85Ki5jauM_SVMdegrc1yKmwQGfWzffkc=s64",
      "userId": "00402512280972984660"
     },
     "user_tz": 180
    },
    "id": "C1N_m9CCi_lO"
   },
   "outputs": [],
   "source": [
    "def gera_busca(r):\n",
    "    \n",
    "    html = trata_html(r.text)\n",
    "    soup = BeautifulSoup(html, 'lxml')\n",
    "    \n",
    "    return soup"
   ]
  },
  {
   "cell_type": "code",
   "execution_count": null,
   "metadata": {
    "colab": {},
    "colab_type": "code",
    "executionInfo": {
     "elapsed": 1008,
     "status": "ok",
     "timestamp": 1595325956817,
     "user": {
      "displayName": "Marcelo Pereira",
      "photoUrl": "https://lh3.googleusercontent.com/a-/AOh14GhIXKCSLGN85Ki5jauM_SVMdegrc1yKmwQGfWzffkc=s64",
      "userId": "00402512280972984660"
     },
     "user_tz": 180
    },
    "id": "K4gRelkei_l1"
   },
   "outputs": [],
   "source": [
    "#obter o total de paginas\n",
    "\n",
    "def total_de_pgs(soup):\n",
    "\n",
    "    tamanho = []\n",
    "    for item in soup.find('div', class_='pagination-results').get_text().split():\n",
    "        if(item.replace('.', '').isnumeric()):\n",
    "            tamanho.append(item.replace('.', ''))\n",
    "    pages = math.ceil(int(tamanho[-1]) / int(tamanho[-2]))\n",
    "    return pages  "
   ]
  },
  {
   "cell_type": "code",
   "execution_count": null,
   "metadata": {
    "colab": {},
    "colab_type": "code",
    "executionInfo": {
     "elapsed": 1001,
     "status": "ok",
     "timestamp": 1595325956818,
     "user": {
      "displayName": "Marcelo Pereira",
      "photoUrl": "https://lh3.googleusercontent.com/a-/AOh14GhIXKCSLGN85Ki5jauM_SVMdegrc1yKmwQGfWzffkc=s64",
      "userId": "00402512280972984660"
     },
     "user_tz": 180
    },
    "id": "nuH0JfGhi_mK"
   },
   "outputs": [],
   "source": [
    "#criando lista de links da busca\n",
    "\n",
    "def busca_links(total_paginas, url):\n",
    "    lista_urls = []\n",
    "\n",
    "    for page in range(1, total_paginas):\n",
    "        url_pg = url + '&start={}'.format(page)\n",
    "        html = trata_html(requests.get(url_pg).text)\n",
    "        soup = BeautifulSoup(html, 'lxml')\n",
    "        lista_h5s = soup.findAll('h5', class_='title-marker')\n",
    "        for h5 in lista_h5s:\n",
    "            item = h5.find('a').get('href')\n",
    "            tipo_de_doc = item.split('/-/')[-1].split('-')[0]\n",
    "            if tipo_de_doc in tipos:\n",
    "                lista_urls.append(item)\n",
    "            \n",
    "    return lista_urls\n",
    "    "
   ]
  },
  {
   "cell_type": "code",
   "execution_count": null,
   "metadata": {
    "colab": {},
    "colab_type": "code",
    "executionInfo": {
     "elapsed": 993,
     "status": "ok",
     "timestamp": 1595325956819,
     "user": {
      "displayName": "Marcelo Pereira",
      "photoUrl": "https://lh3.googleusercontent.com/a-/AOh14GhIXKCSLGN85Ki5jauM_SVMdegrc1yKmwQGfWzffkc=s64",
      "userId": "00402512280972984660"
     },
     "user_tz": 180
    },
    "id": "YAuXV0BQi_mX"
   },
   "outputs": [],
   "source": [
    "#raspagem de dados\n",
    "def raspa_dados(lista_de_links, ministerio):\n",
    "\n",
    "    links = []\n",
    "    autores = []\n",
    "    chamadas = []\n",
    "    datas = []\n",
    "    ementas = []\n",
    "    for i in lista_de_links:\n",
    "        time.sleep(0.01)\n",
    "        html = trata_html(requests.get(i).text)\n",
    "        soup = BeautifulSoup(html, 'lxml')\n",
    "        orgao = soup.findAll('span', class_=\"orgao-dou-data\")[0].get_text()\n",
    "        chamada = soup.findAll('p', class_=\"identifica\")[0].get_text()\n",
    "        data = soup.findAll('span', class_=\"publicado-dou-data\")[0].get_text()\n",
    "        ementa = soup.findAll('p', class_=\"ementa\")\n",
    "        if ministerio in orgao:\n",
    "            autores.append(orgao)\n",
    "            chamadas.append(chamada)\n",
    "            datas.append(data)\n",
    "            links.append(i)\n",
    "            if len(ementa) >= 1:\n",
    "              ementas.append(ementa[0].get_text())\n",
    "            else:\n",
    "              ementas.append(None)        \n",
    "    return links, autores, chamadas, datas, ementas"
   ]
  },
  {
   "cell_type": "code",
   "execution_count": null,
   "metadata": {
    "colab": {},
    "colab_type": "code",
    "executionInfo": {
     "elapsed": 986,
     "status": "ok",
     "timestamp": 1595325956820,
     "user": {
      "displayName": "Marcelo Pereira",
      "photoUrl": "https://lh3.googleusercontent.com/a-/AOh14GhIXKCSLGN85Ki5jauM_SVMdegrc1yKmwQGfWzffkc=s64",
      "userId": "00402512280972984660"
     },
     "user_tz": 180
    },
    "id": "Du4NIi7si_me"
   },
   "outputs": [],
   "source": [
    "#função que gera planilha para cada integer da variavel 'orgaos'\n",
    "\n",
    "def gera_df_orgao(orgao):\n",
    "    print(\"Buscando dados de {}\".format(orgao))\n",
    "    params = {\"q\" : '\"{}\"'.format(orgao), \"publishFrom\" : data_inicio, \"publishTo\" : data_fim}\n",
    "    r = requests.get(url, params = params)\n",
    "    soup = gera_busca(r)\n",
    "    total_paginas = total_de_pgs(soup)\n",
    "    lista_urls = busca_links(total_paginas, r.url)\n",
    "    links, ministerios, chamadas, datas, ementas = raspa_dados(lista_urls, orgao)\n",
    "    data = {'orgao': ministerios, 'ato': chamadas, 'ementa': ementas, 'data': datas, 'link': links}\n",
    "    planilha = pd.DataFrame(data)\n",
    "    print(\"Dados obtidos de {} com sucesso\".format(orgao))\n",
    "    return planilha"
   ]
  },
  {
   "cell_type": "code",
   "execution_count": null,
   "metadata": {
    "colab": {
     "base_uri": "https://localhost:8080/",
     "height": 1000
    },
    "colab_type": "code",
    "id": "SqCVVsG8i_mx",
    "outputId": "6f8baeaf-3612-492b-991e-f1b49ec52b72"
   },
   "outputs": [],
   "source": [
    "planilha = pd.concat([gera_df_orgao(i) for i in orgaos], ignore_index=True)"
   ]
  },
  {
   "cell_type": "code",
   "execution_count": null,
   "metadata": {
    "colab": {},
    "colab_type": "code",
    "id": "CVM8APQoi_nA"
   },
   "outputs": [],
   "source": [
    "planilha.to_excel('planilha_dou_{}.xlsx'.format(data_fim), index=False)"
   ]
  },
  {
   "cell_type": "code",
   "execution_count": null,
   "metadata": {
    "colab": {},
    "colab_type": "code",
    "id": "4Ea8s3CD1aOR"
   },
   "outputs": [],
   "source": []
  },
  {
   "cell_type": "code",
   "execution_count": null,
   "metadata": {
    "colab": {},
    "colab_type": "code",
    "id": "wyqnChZTi_m4"
   },
   "outputs": [],
   "source": []
  },
  {
   "cell_type": "code",
   "execution_count": null,
   "metadata": {
    "colab": {},
    "colab_type": "code",
    "id": "WKxJdfn4i_nL"
   },
   "outputs": [],
   "source": []
  }
 ],
 "metadata": {
  "colab": {
   "name": "web-crawler-dou-ana.ipynb",
   "provenance": []
  },
  "kernelspec": {
   "display_name": "Python 3",
   "language": "python",
   "name": "python3"
  },
  "language_info": {
   "codemirror_mode": {
    "name": "ipython",
    "version": 3
   },
   "file_extension": ".py",
   "mimetype": "text/x-python",
   "name": "python",
   "nbconvert_exporter": "python",
   "pygments_lexer": "ipython3",
   "version": "3.7.6"
  }
 },
 "nbformat": 4,
 "nbformat_minor": 1
}
